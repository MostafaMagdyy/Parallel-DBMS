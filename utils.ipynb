{
 "cells": [
  {
   "cell_type": "code",
   "execution_count": null,
   "id": "e8924d33",
   "metadata": {},
   "outputs": [
    {
     "name": "stdout",
     "output_type": "stream",
     "text": [
      "Columns: ['name', 'age', 'year']\n",
      "Conditions: WHERE year > 2\n"
     ]
    }
   ],
   "source": [
    "import sqlglot\n",
    "\n",
    "query = \"SELECT name, age FROM students WHERE year > 2\"\n",
    "parsed = sqlglot.parse_one(query)\n",
    "# Access parsed components\n",
    "select = parsed.find(sqlglot.exp.Select)\n",
    "where = parsed.find(sqlglot.exp.Where)\n",
    "print(f\"Columns: {[col.name for col in parsed.find_all(sqlglot.exp.Column)]}\")\n",
    "print(f\"Conditions: {where}\")"
   ]
  }
 ],
 "metadata": {
  "kernelspec": {
   "display_name": "base",
   "language": "python",
   "name": "python3"
  },
  "language_info": {
   "codemirror_mode": {
    "name": "ipython",
    "version": 3
   },
   "file_extension": ".py",
   "mimetype": "text/x-python",
   "name": "python",
   "nbconvert_exporter": "python",
   "pygments_lexer": "ipython3",
   "version": "3.12.3"
  }
 },
 "nbformat": 4,
 "nbformat_minor": 5
}
